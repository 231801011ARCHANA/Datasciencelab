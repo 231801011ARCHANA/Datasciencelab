{
 "cells": [
  {
   "cell_type": "code",
   "execution_count": 1,
   "id": "f2349ee8-5ec1-437e-a77b-89b2ae8e0cf1",
   "metadata": {},
   "outputs": [],
   "source": [
    "import pandas as pd\n",
    "import spacy\n",
    "import nltk\n",
    "import string\n",
    "from nltk.corpus import stopwords"
   ]
  },
  {
   "cell_type": "code",
   "execution_count": 2,
   "id": "ff2c8ba7-afc5-42b6-a160-17f735d43e11",
   "metadata": {},
   "outputs": [
    {
     "name": "stderr",
     "output_type": "stream",
     "text": [
      "[nltk_data] Downloading package stopwords to\n",
      "[nltk_data]     C:\\Users\\archa\\AppData\\Roaming\\nltk_data...\n",
      "[nltk_data]   Package stopwords is already up-to-date!\n"
     ]
    }
   ],
   "source": [
    "nltk.download('stopwords')\n",
    "stop_words = set(stopwords.words('english'))"
   ]
  },
  {
   "cell_type": "code",
   "execution_count": 10,
   "id": "6277dafc-5ead-40c9-823b-6714236c8105",
   "metadata": {},
   "outputs": [
    {
     "name": "stdout",
     "output_type": "stream",
     "text": [
      "Defaulting to user installation because normal site-packages is not writeable"
     ]
    },
    {
     "name": "stderr",
     "output_type": "stream",
     "text": [
      "\n",
      "[notice] A new release of pip is available: 24.2 -> 25.2\n",
      "[notice] To update, run: python.exe -m pip install --upgrade pip\n"
     ]
    },
    {
     "name": "stdout",
     "output_type": "stream",
     "text": [
      "\n",
      "Collecting en-core-web-sm==3.8.0\n",
      "  Downloading https://github.com/explosion/spacy-models/releases/download/en_core_web_sm-3.8.0/en_core_web_sm-3.8.0-py3-none-any.whl (12.8 MB)\n",
      "     ---------------------------------------- 0.0/12.8 MB ? eta -:--:--\n",
      "      --------------------------------------- 0.3/12.8 MB ? eta -:--:--\n",
      "     - -------------------------------------- 0.5/12.8 MB 1.1 MB/s eta 0:00:11\n",
      "     --- ------------------------------------ 1.0/12.8 MB 1.7 MB/s eta 0:00:08\n",
      "     ---- ----------------------------------- 1.3/12.8 MB 1.9 MB/s eta 0:00:07\n",
      "     ----- ---------------------------------- 1.8/12.8 MB 1.7 MB/s eta 0:00:07\n",
      "     ------- -------------------------------- 2.4/12.8 MB 1.9 MB/s eta 0:00:06\n",
      "     --------- ------------------------------ 2.9/12.8 MB 2.0 MB/s eta 0:00:06\n",
      "     --------- ------------------------------ 3.1/12.8 MB 2.0 MB/s eta 0:00:05\n",
      "     ----------- ---------------------------- 3.7/12.8 MB 2.0 MB/s eta 0:00:05\n",
      "     ------------- -------------------------- 4.2/12.8 MB 2.0 MB/s eta 0:00:05\n",
      "     -------------- ------------------------- 4.7/12.8 MB 2.0 MB/s eta 0:00:04\n",
      "     --------------- ------------------------ 5.0/12.8 MB 2.0 MB/s eta 0:00:04\n",
      "     ---------------- ----------------------- 5.2/12.8 MB 2.0 MB/s eta 0:00:04\n",
      "     ------------------ --------------------- 5.8/12.8 MB 2.0 MB/s eta 0:00:04\n",
      "     ------------------- -------------------- 6.3/12.8 MB 2.0 MB/s eta 0:00:04\n",
      "     -------------------- ------------------- 6.6/12.8 MB 2.0 MB/s eta 0:00:04\n",
      "     ---------------------- ----------------- 7.1/12.8 MB 2.0 MB/s eta 0:00:03\n",
      "     ----------------------- ---------------- 7.6/12.8 MB 2.0 MB/s eta 0:00:03\n",
      "     ------------------------ --------------- 7.9/12.8 MB 2.0 MB/s eta 0:00:03\n",
      "     ------------------------- -------------- 8.1/12.8 MB 2.0 MB/s eta 0:00:03\n",
      "     ------------------------- -------------- 8.1/12.8 MB 2.0 MB/s eta 0:00:03\n",
      "     -------------------------- ------------- 8.4/12.8 MB 1.8 MB/s eta 0:00:03\n",
      "     --------------------------- ------------ 8.9/12.8 MB 1.8 MB/s eta 0:00:03\n",
      "     ---------------------------- ----------- 9.2/12.8 MB 1.8 MB/s eta 0:00:02\n",
      "     ----------------------------- ---------- 9.4/12.8 MB 1.8 MB/s eta 0:00:02\n",
      "     ----------------------------- ---------- 9.4/12.8 MB 1.8 MB/s eta 0:00:02\n",
      "     ------------------------------ --------- 9.7/12.8 MB 1.7 MB/s eta 0:00:02\n",
      "     ------------------------------ --------- 9.7/12.8 MB 1.7 MB/s eta 0:00:02\n",
      "     ------------------------------- -------- 10.0/12.8 MB 1.6 MB/s eta 0:00:02\n",
      "     --------------------------------- ------ 10.7/12.8 MB 1.7 MB/s eta 0:00:02\n",
      "     ---------------------------------- ----- 11.0/12.8 MB 1.7 MB/s eta 0:00:02\n",
      "     ------------------------------------ --- 11.5/12.8 MB 1.7 MB/s eta 0:00:01\n",
      "     ------------------------------------- -- 12.1/12.8 MB 1.7 MB/s eta 0:00:01\n",
      "     ---------------------------------------  12.6/12.8 MB 1.7 MB/s eta 0:00:01\n",
      "     ---------------------------------------- 12.8/12.8 MB 1.7 MB/s eta 0:00:00\n",
      "Installing collected packages: en-core-web-sm\n",
      "Successfully installed en-core-web-sm-3.8.0\n",
      "\u001b[38;5;2m[+] Download and installation successful\u001b[0m\n",
      "You can now load the package via spacy.load('en_core_web_sm')\n"
     ]
    }
   ],
   "source": [
    "!python -m spacy download en_core_web_sm"
   ]
  },
  {
   "cell_type": "code",
   "execution_count": 3,
   "id": "ebde9a76-39f3-4576-944b-8b5041b4a6d3",
   "metadata": {},
   "outputs": [],
   "source": [
    "df = pd.read_csv(\"Reviews.csv\")"
   ]
  },
  {
   "cell_type": "code",
   "execution_count": 4,
   "id": "1295a45c-1e51-4c3e-a083-bf25477709f7",
   "metadata": {},
   "outputs": [],
   "source": [
    "reviews = df['Text']"
   ]
  },
  {
   "cell_type": "code",
   "execution_count": 5,
   "id": "300ff3dd-c061-4d34-b01d-7fe7bc5f6400",
   "metadata": {},
   "outputs": [],
   "source": [
    "reviews = reviews.dropna()"
   ]
  },
  {
   "cell_type": "code",
   "execution_count": 6,
   "id": "c29ca8cf-0e9d-4b84-bb02-a390d92a9bc4",
   "metadata": {},
   "outputs": [],
   "source": [
    "reviews = reviews[:10000]"
   ]
  },
  {
   "cell_type": "code",
   "execution_count": 7,
   "id": "330f6bff-2a36-4ba9-aa20-113ae3949b29",
   "metadata": {},
   "outputs": [],
   "source": [
    "def preprocess_text(text):\n",
    "    text = text.lower()\n",
    "    text = text.translate(str.maketrans('', '', string.punctuation))\n",
    "    return text\n",
    "\n",
    "reviews = reviews.apply(preprocess_text)"
   ]
  },
  {
   "cell_type": "code",
   "execution_count": 11,
   "id": "b762ff7b-30a4-4a18-bfb1-90034185f7e6",
   "metadata": {},
   "outputs": [],
   "source": [
    "nlp = spacy.load(\"en_core_web_sm\")"
   ]
  },
  {
   "cell_type": "code",
   "execution_count": 12,
   "id": "5e062017-3a59-47ef-b103-323e9ad9e2d9",
   "metadata": {},
   "outputs": [],
   "source": [
    "def tokenize_and_clean(text):\n",
    "    doc = nlp(text)\n",
    "    tokens = [\n",
    "        token.text for token in doc \n",
    "        if token.is_alpha and token.text not in stop_words\n",
    "    ]\n",
    "    return tokens\n",
    "\n",
    "tokenized_reviews = reviews.apply(tokenize_and_clean)"
   ]
  },
  {
   "cell_type": "code",
   "execution_count": 13,
   "id": "327dc50f-581f-415b-934b-ade7129f35c3",
   "metadata": {},
   "outputs": [],
   "source": [
    "def pos_tagging(text):\n",
    "    doc = nlp(text)\n",
    "    return [(token.text, token.pos_) for token in doc]\n",
    "\n",
    "pos_tags = reviews[:5].apply(pos_tagging)"
   ]
  },
  {
   "cell_type": "code",
   "execution_count": 14,
   "id": "fa8e73f4-67d4-4243-9e97-113567a492ef",
   "metadata": {},
   "outputs": [],
   "source": [
    "def ner_extraction(text):\n",
    "    doc = nlp(text)\n",
    "    return [(ent.text, ent.label_) for ent in doc.ents]\n",
    "\n",
    "ner_entities = reviews[:5].apply(ner_extraction)"
   ]
  },
  {
   "cell_type": "code",
   "execution_count": 15,
   "id": "5e125b73-79c2-4bda-8b1c-4e2486a103da",
   "metadata": {},
   "outputs": [
    {
     "name": "stdout",
     "output_type": "stream",
     "text": [
      "Sample Tokens:\n",
      " ['bought', 'several', 'vitality', 'canned', 'dog', 'food', 'products', 'found', 'good', 'quality', 'product', 'looks', 'like', 'stew', 'processed', 'meat', 'smells', 'better', 'labrador', 'finicky']\n",
      "\n",
      "POS Tags (First Review):\n",
      " [('i', 'PRON'), ('have', 'AUX'), ('bought', 'VERB'), ('several', 'ADJ'), ('of', 'ADP'), ('the', 'DET'), ('vitality', 'NOUN'), ('canned', 'VERB'), ('dog', 'NOUN'), ('food', 'NOUN'), ('products', 'NOUN'), ('and', 'CCONJ'), ('have', 'AUX'), ('found', 'VERB'), ('them', 'PRON'), ('all', 'PRON'), ('to', 'PART'), ('be', 'AUX'), ('of', 'ADP'), ('good', 'ADJ'), ('quality', 'NOUN'), ('the', 'DET'), ('product', 'NOUN'), ('looks', 'VERB'), ('more', 'ADV'), ('like', 'ADP'), ('a', 'DET'), ('stew', 'NOUN'), ('than', 'ADP'), ('a', 'DET'), ('processed', 'VERB'), ('meat', 'NOUN'), ('and', 'CCONJ'), ('it', 'PRON'), ('smells', 'VERB'), ('better', 'ADJ'), ('my', 'PRON'), ('labrador', 'NOUN'), ('is', 'AUX'), ('finicky', 'ADJ'), ('and', 'CCONJ'), ('she', 'PRON'), ('appreciates', 'VERB'), ('this', 'DET'), ('product', 'NOUN'), ('better', 'ADV'), ('than', 'ADP'), (' ', 'SPACE'), ('most', 'ADV')]\n",
      "\n",
      "Named Entities (First Review):\n",
      " []\n"
     ]
    }
   ],
   "source": [
    "print(\"Sample Tokens:\\n\", tokenized_reviews.iloc[0][:20])\n",
    "print(\"\\nPOS Tags (First Review):\\n\", pos_tags.iloc[0])\n",
    "print(\"\\nNamed Entities (First Review):\\n\", ner_entities.iloc[0])"
   ]
  }
 ],
 "metadata": {
  "kernelspec": {
   "display_name": "Python 3 (ipykernel)",
   "language": "python",
   "name": "python3"
  },
  "language_info": {
   "codemirror_mode": {
    "name": "ipython",
    "version": 3
   },
   "file_extension": ".py",
   "mimetype": "text/x-python",
   "name": "python",
   "nbconvert_exporter": "python",
   "pygments_lexer": "ipython3",
   "version": "3.13.0"
  }
 },
 "nbformat": 4,
 "nbformat_minor": 5
}
