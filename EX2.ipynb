{
 "cells": [
  {
   "cell_type": "code",
   "execution_count": 1,
   "id": "1ba67335",
   "metadata": {},
   "outputs": [],
   "source": [
    "import pandas as pd\n",
    "import matplotlib.pyplot as plt\n",
    "import seaborn as sns\n",
    "from sklearn.impute import SimpleImputer"
   ]
  },
  {
   "cell_type": "code",
   "execution_count": 3,
   "id": "88d40fd1",
   "metadata": {},
   "outputs": [],
   "source": [
    "ab=pd.read_csv('Titanic-Dataset.csv')"
   ]
  },
  {
   "cell_type": "code",
   "execution_count": 4,
   "id": "7263f26d",
   "metadata": {},
   "outputs": [],
   "source": [
    "df=pd.DataFrame(ab)"
   ]
  },
  {
   "cell_type": "code",
   "execution_count": 7,
   "id": "e1a9ca62",
   "metadata": {},
   "outputs": [
    {
     "name": "stdout",
     "output_type": "stream",
     "text": [
      "Shape of the dataset: (891, 12)\n",
      "\n",
      "Info:\n",
      "\n",
      "<class 'pandas.core.frame.DataFrame'>\n",
      "RangeIndex: 891 entries, 0 to 890\n",
      "Data columns (total 12 columns):\n",
      " #   Column       Non-Null Count  Dtype  \n",
      "---  ------       --------------  -----  \n",
      " 0   PassengerId  891 non-null    int64  \n",
      " 1   Survived     891 non-null    int64  \n",
      " 2   Pclass       891 non-null    int64  \n",
      " 3   Name         891 non-null    object \n",
      " 4   Sex          891 non-null    object \n",
      " 5   Age          714 non-null    float64\n",
      " 6   SibSp        891 non-null    int64  \n",
      " 7   Parch        891 non-null    int64  \n",
      " 8   Ticket       891 non-null    object \n",
      " 9   Fare         891 non-null    float64\n",
      " 10  Cabin        204 non-null    object \n",
      " 11  Embarked     889 non-null    object \n",
      "dtypes: float64(2), int64(5), object(5)\n",
      "memory usage: 83.7+ KB\n",
      "None\n",
      "\n",
      "Statistical Description:\n",
      "\n",
      "        PassengerId    Survived      Pclass                     Name   Sex  \\\n",
      "count    891.000000  891.000000  891.000000                      891   891   \n",
      "unique          NaN         NaN         NaN                      891     2   \n",
      "top             NaN         NaN         NaN  Braund, Mr. Owen Harris  male   \n",
      "freq            NaN         NaN         NaN                        1   577   \n",
      "mean     446.000000    0.383838    2.308642                      NaN   NaN   \n",
      "std      257.353842    0.486592    0.836071                      NaN   NaN   \n",
      "min        1.000000    0.000000    1.000000                      NaN   NaN   \n",
      "25%      223.500000    0.000000    2.000000                      NaN   NaN   \n",
      "50%      446.000000    0.000000    3.000000                      NaN   NaN   \n",
      "75%      668.500000    1.000000    3.000000                      NaN   NaN   \n",
      "max      891.000000    1.000000    3.000000                      NaN   NaN   \n",
      "\n",
      "               Age       SibSp       Parch  Ticket        Fare    Cabin  \\\n",
      "count   714.000000  891.000000  891.000000     891  891.000000      204   \n",
      "unique         NaN         NaN         NaN     681         NaN      147   \n",
      "top            NaN         NaN         NaN  347082         NaN  B96 B98   \n",
      "freq           NaN         NaN         NaN       7         NaN        4   \n",
      "mean     29.699118    0.523008    0.381594     NaN   32.204208      NaN   \n",
      "std      14.526497    1.102743    0.806057     NaN   49.693429      NaN   \n",
      "min       0.420000    0.000000    0.000000     NaN    0.000000      NaN   \n",
      "25%      20.125000    0.000000    0.000000     NaN    7.910400      NaN   \n",
      "50%      28.000000    0.000000    0.000000     NaN   14.454200      NaN   \n",
      "75%      38.000000    1.000000    0.000000     NaN   31.000000      NaN   \n",
      "max      80.000000    8.000000    6.000000     NaN  512.329200      NaN   \n",
      "\n",
      "       Embarked  \n",
      "count       889  \n",
      "unique        3  \n",
      "top           S  \n",
      "freq        644  \n",
      "mean        NaN  \n",
      "std         NaN  \n",
      "min         NaN  \n",
      "25%         NaN  \n",
      "50%         NaN  \n",
      "75%         NaN  \n",
      "max         NaN  \n"
     ]
    }
   ],
   "source": [
    "print(\"Shape of the dataset:\", df.shape)\n",
    "print(\"\\nInfo:\\n\")\n",
    "print(df.info())\n",
    "print(\"\\nStatistical Description:\\n\")\n",
    "print(df.describe(include='all'))"
   ]
  },
  {
   "cell_type": "code",
   "execution_count": 8,
   "id": "f05641f2",
   "metadata": {},
   "outputs": [],
   "source": [
    "imputer=SimpleImputer(strategy='mean')\n",
    "df['Age']=imputer.fit_transform(df[['Age']])"
   ]
  },
  {
   "cell_type": "code",
   "execution_count": 10,
   "id": "73eb34f9",
   "metadata": {},
   "outputs": [],
   "source": [
    "df['Cabin']=df['Cabin'].fillna('unknown')"
   ]
  },
  {
   "cell_type": "code",
   "execution_count": 11,
   "id": "f2bf505f",
   "metadata": {},
   "outputs": [
    {
     "data": {
      "text/plain": [
       "<bound method NDFrame.head of      PassengerId  Survived  Pclass  \\\n",
       "0              1         0       3   \n",
       "1              2         1       1   \n",
       "2              3         1       3   \n",
       "3              4         1       1   \n",
       "4              5         0       3   \n",
       "..           ...       ...     ...   \n",
       "886          887         0       2   \n",
       "887          888         1       1   \n",
       "888          889         0       3   \n",
       "889          890         1       1   \n",
       "890          891         0       3   \n",
       "\n",
       "                                                  Name     Sex        Age  \\\n",
       "0                              Braund, Mr. Owen Harris    male  22.000000   \n",
       "1    Cumings, Mrs. John Bradley (Florence Briggs Th...  female  38.000000   \n",
       "2                               Heikkinen, Miss. Laina  female  26.000000   \n",
       "3         Futrelle, Mrs. Jacques Heath (Lily May Peel)  female  35.000000   \n",
       "4                             Allen, Mr. William Henry    male  35.000000   \n",
       "..                                                 ...     ...        ...   \n",
       "886                              Montvila, Rev. Juozas    male  27.000000   \n",
       "887                       Graham, Miss. Margaret Edith  female  19.000000   \n",
       "888           Johnston, Miss. Catherine Helen \"Carrie\"  female  29.699118   \n",
       "889                              Behr, Mr. Karl Howell    male  26.000000   \n",
       "890                                Dooley, Mr. Patrick    male  32.000000   \n",
       "\n",
       "     SibSp  Parch            Ticket     Fare    Cabin Embarked  \n",
       "0        1      0         A/5 21171   7.2500  unknown        S  \n",
       "1        1      0          PC 17599  71.2833      C85        C  \n",
       "2        0      0  STON/O2. 3101282   7.9250  unknown        S  \n",
       "3        1      0            113803  53.1000     C123        S  \n",
       "4        0      0            373450   8.0500  unknown        S  \n",
       "..     ...    ...               ...      ...      ...      ...  \n",
       "886      0      0            211536  13.0000  unknown        S  \n",
       "887      0      0            112053  30.0000      B42        S  \n",
       "888      1      2        W./C. 6607  23.4500  unknown        S  \n",
       "889      0      0            111369  30.0000     C148        C  \n",
       "890      0      0            370376   7.7500  unknown        Q  \n",
       "\n",
       "[891 rows x 12 columns]>"
      ]
     },
     "execution_count": 11,
     "metadata": {},
     "output_type": "execute_result"
    }
   ],
   "source": [
    "df.head"
   ]
  },
  {
   "cell_type": "code",
   "execution_count": 12,
   "id": "9f7f805f",
   "metadata": {},
   "outputs": [],
   "source": [
    "df['Embarked'] = df['Embarked'].fillna(df['Embarked'].mode()[0])"
   ]
  },
  {
   "cell_type": "code",
   "execution_count": 13,
   "id": "c6acf6d2",
   "metadata": {},
   "outputs": [
    {
     "data": {
      "image/png": "[encoded data removed]",
      "text/plain": [
       "<Figure size 432x288 with 1 Axes>"
      ]
     },
     "metadata": {
      "needs_background": "light"
     },
     "output_type": "display_data"
    }
   ],
   "source": [
    "plt.figure(figsize=(6,4))\n",
    "sns.countplot(x='Pclass', data=df)\n",
    "plt.title(\"Passenger Class Distribution\")\n",
    "plt.show()"
   ]
  },
  {
   "cell_type": "code",
   "execution_count": 15,
   "id": "168c6ed2",
   "metadata": {},
   "outputs": [
    {
     "name": "stdout",
     "output_type": "stream",
     "text": [
      "Female Survivors:\n",
      " 1      Cumings, Mrs. John Bradley (Florence Briggs Th...\n",
      "2                                 Heikkinen, Miss. Laina\n",
      "3           Futrelle, Mrs. Jacques Heath (Lily May Peel)\n",
      "8      Johnson, Mrs. Oscar W (Elisabeth Vilhelmina Berg)\n",
      "9                    Nasser, Mrs. Nicholas (Adele Achem)\n",
      "                             ...                        \n",
      "874                Abelson, Mrs. Samuel (Hannah Wizosky)\n",
      "875                     Najib, Miss. Adele Kiamie \"Jane\"\n",
      "879        Potter, Mrs. Thomas Jr (Lily Alexenia Wilson)\n",
      "880         Shelley, Mrs. William (Imanita Parrish Hall)\n",
      "887                         Graham, Miss. Margaret Edith\n",
      "Name: Name, Length: 233, dtype: object\n"
     ]
    }
   ],
   "source": [
    "female_survivors = df[(df['Sex'] == 'female') & (df['Survived'] == 1)]\n",
    "print(\"Female Survivors:\\n\", female_survivors['Name'])"
   ]
  },
  {
   "cell_type": "code",
   "execution_count": 17,
   "id": "c9438482",
   "metadata": {},
   "outputs": [
    {
     "name": "stdout",
     "output_type": "stream",
     "text": [
      "\n",
      "3rd Class and Age < 18:\n",
      "                                         Name   Age  Pclass\n",
      "7             Palsson, Master. Gosta Leonard   2.0       3\n",
      "10           Sandstrom, Miss. Marguerite Rut   4.0       3\n",
      "14      Vestrom, Miss. Hulda Amanda Adolfina  14.0       3\n",
      "16                      Rice, Master. Eugene   2.0       3\n",
      "22               McGowan, Miss. Anna \"Annie\"  15.0       3\n",
      "..                                       ...   ...     ...\n",
      "844                      Culumovic, Mr. Jeso  17.0       3\n",
      "850  Andersson, Master. Sigvard Harald Elias   4.0       3\n",
      "852                  Boulos, Miss. Nourelain   9.0       3\n",
      "869          Johnson, Master. Harold Theodor   4.0       3\n",
      "875         Najib, Miss. Adele Kiamie \"Jane\"  15.0       3\n",
      "\n",
      "[78 rows x 3 columns]\n"
     ]
    }
   ],
   "source": [
    "young_3rd_class = df[(df['Pclass'] == 3) & (df['Age'] < 18)]\n",
    "print(\"\\n3rd Class and Age < 18:\\n\", young_3rd_class[['Name', 'Age', 'Pclass']])"
   ]
  },
  {
   "cell_type": "code",
   "execution_count": 16,
   "id": "16c67707",
   "metadata": {},
   "outputs": [
    {
     "name": "stdout",
     "output_type": "stream",
     "text": [
      "Class 1 and Age > 40:\n",
      "                                                   Name   Age  Pclass\n",
      "6                              McCarthy, Mr. Timothy J  54.0       1\n",
      "11                            Bonnell, Miss. Elizabeth  58.0       1\n",
      "35                      Holverson, Mr. Alexander Oskar  42.0       1\n",
      "52            Harper, Mrs. Henry Sleeper (Myna Haxtun)  49.0       1\n",
      "54                      Ostby, Mr. Engelhart Cornelius  65.0       1\n",
      "..                                                 ...   ...     ...\n",
      "856         Wick, Mrs. George Dennick (Mary Hitchcock)  45.0       1\n",
      "857                             Daly, Mr. Peter Denis   51.0       1\n",
      "862  Swift, Mrs. Frederick Joel (Margaret Welles Ba...  48.0       1\n",
      "871   Beckwith, Mrs. Richard Leonard (Sallie Monypeny)  47.0       1\n",
      "879      Potter, Mrs. Thomas Jr (Lily Alexenia Wilson)  56.0       1\n",
      "\n",
      "[76 rows x 3 columns]\n"
     ]
    }
   ],
   "source": [
    "class1_over40 = df[(df['Pclass'] == 1) & (df['Age'] > 40)]\n",
    "print(\"Class 1 and Age > 40:\\n\", class1_over40[['Name', 'Age', 'Pclass']])"
   ]
  },
  {
   "cell_type": "code",
   "execution_count": 18,
   "id": "624de716",
   "metadata": {},
   "outputs": [
    {
     "name": "stdout",
     "output_type": "stream",
     "text": [
      "\n",
      "Class 1 & Age > 40 & Survived:\n",
      "                                                   Name   Age  Survived\n",
      "11                            Bonnell, Miss. Elizabeth  58.0         1\n",
      "52            Harper, Mrs. Henry Sleeper (Myna Haxtun)  49.0         1\n",
      "187      Romaine, Mr. Charles Hallace (\"Mr C Rolmane\")  45.0         1\n",
      "194          Brown, Mrs. James Joseph (Margaret Tobin)  44.0         1\n",
      "195                               Lurette, Miss. Elise  58.0         1\n",
      "268      Graham, Mrs. William Thompson (Edith Junkins)  58.0         1\n",
      "275                  Andrews, Miss. Kornelia Theodosia  63.0         1\n",
      "299    Baxter, Mrs. James (Helene DeLaudeniere Chaput)  50.0         1\n",
      "337                    Burns, Miss. Elizabeth Margaret  41.0         1\n",
      "366   Warren, Mrs. Frank Manley (Anna Sophia Atkinson)  60.0         1\n",
      "380                              Bidois, Miss. Rosalie  42.0         1\n",
      "449                     Peuchen, Major. Arthur Godfrey  52.0         1\n",
      "453                           Goldenberg, Mr. Samuel L  49.0         1\n",
      "460                                Anderson, Mr. Harry  48.0         1\n",
      "496                     Eustis, Miss. Elizabeth Mussey  54.0         1\n",
      "513     Rothschild, Mrs. Martin (Elizabeth L. Barrett)  54.0         1\n",
      "523    Hippach, Mrs. Louis Albert (Ida Sophia Fischer)  44.0         1\n",
      "556  Duff Gordon, Lady. (Lucille Christiana Sutherl...  48.0         1\n",
      "571      Appleton, Mrs. Edward Dale (Charlotte Lamson)  53.0         1\n",
      "587                   Frolicher-Stehli, Mr. Maxmillian  60.0         1\n",
      "591    Stephenson, Mrs. Walter Bertram (Martha Eustis)  52.0         1\n",
      "599       Duff Gordon, Sir. Cosmo Edmund (\"Mr Morgan\")  49.0         1\n",
      "621                       Kimball, Mr. Edwin Nelson Jr  42.0         1\n",
      "630               Barkworth, Mr. Algernon Henry Wilson  80.0         1\n",
      "645                          Harper, Mr. Henry Sleeper  48.0         1\n",
      "647                Simonius-Blumer, Col. Oberst Alfons  56.0         1\n",
      "660                      Frauenthal, Dr. Henry William  50.0         1\n",
      "707                  Calderhead, Mr. Edward Pennington  42.0         1\n",
      "712                           Taylor, Mr. Elmer Zebley  48.0         1\n",
      "765               Hogeboom, Mrs. John C (Anna Andrews)  51.0         1\n",
      "779  Robert, Mrs. Edward Scott (Elisabeth Walton Mc...  43.0         1\n",
      "796                        Leader, Dr. Alice (Farnham)  49.0         1\n",
      "820  Hays, Mrs. Charles Melville (Clara Jennings Gr...  52.0         1\n",
      "829          Stone, Mrs. George Nelson (Martha Evelyn)  62.0         1\n",
      "856         Wick, Mrs. George Dennick (Mary Hitchcock)  45.0         1\n",
      "857                             Daly, Mr. Peter Denis   51.0         1\n",
      "862  Swift, Mrs. Frederick Joel (Margaret Welles Ba...  48.0         1\n",
      "871   Beckwith, Mrs. Richard Leonard (Sallie Monypeny)  47.0         1\n",
      "879      Potter, Mrs. Thomas Jr (Lily Alexenia Wilson)  56.0         1\n"
     ]
    }
   ],
   "source": [
    "class1_over40_survived = class1_over40[class1_over40['Survived'] == 1]\n",
    "print(\"\\nClass 1 & Age > 40 & Survived:\\n\", class1_over40_survived[['Name', 'Age', 'Survived']])"
   ]
  },
  {
   "cell_type": "code",
   "execution_count": 19,
   "id": "fb636d5a",
   "metadata": {},
   "outputs": [
    {
     "name": "stdout",
     "output_type": "stream",
     "text": [
      "\n",
      "Male passengers with Fare > 100:\n",
      "                                            Name      Fare\n",
      "27               Fortune, Mr. Charles Alexander  263.0000\n",
      "118                    Baxter, Mr. Quigg Edmond  247.5208\n",
      "305              Allison, Master. Hudson Trevor  151.5500\n",
      "332                   Graham, Mr. George Edward  153.4625\n",
      "373                         Ringhini, Mr. Sante  135.6333\n",
      "377                   Widener, Mr. Harry Elkins  211.5000\n",
      "390                  Carter, Mr. William Ernest  120.0000\n",
      "438                           Fortune, Mr. Mark  263.0000\n",
      "505  Penasco y Castellana, Mr. Victor de Satode  108.9000\n",
      "527                          Farthing, Mr. John  221.7792\n",
      "544                  Douglas, Mr. Walter Donald  106.4250\n",
      "550                 Thayer, Mr. John Borland Jr  110.8833\n",
      "557                         Robbins, Mr. Victor  227.5250\n",
      "659                  Newell, Mr. Arthur Webster  113.2750\n",
      "660               Frauenthal, Dr. Henry William  133.6500\n",
      "679          Cardeza, Mr. Thomas Drake Martinez  512.3292\n",
      "698                    Thayer, Mr. John Borland  110.8833\n",
      "737                      Lesurer, Mr. Gustave J  512.3292\n",
      "802         Carter, Master. William Thornton II  120.0000\n"
     ]
    }
   ],
   "source": [
    "high_fare_males = df[(df['Sex'] == 'male') & (df['Fare'] > 100)]\n",
    "print(\"\\nMale passengers with Fare > 100:\\n\", high_fare_males[['Name', 'Fare']])"
   ]
  },
  {
   "cell_type": "code",
   "execution_count": 20,
   "id": "5f578db3",
   "metadata": {},
   "outputs": [
    {
     "name": "stdout",
     "output_type": "stream",
     "text": [
      "\n",
      "Embarked from 'C' and Class 2:\n",
      "                                                   Name Embarked  Pclass\n",
      "9                  Nasser, Mrs. Nicholas (Adele Achem)        C       2\n",
      "43            Laroche, Miss. Simonne Marie Anne Andree        C       2\n",
      "122                               Nasser, Mr. Nicholas        C       2\n",
      "135                                 Richard, Mr. Emile        C       2\n",
      "181                                   Pernot, Mr. Rene        C       2\n",
      "292                             Levy, Mr. Rene Jacques        C       2\n",
      "308                                Abelson, Mr. Samuel        C       2\n",
      "361                          del Carlo, Mr. Sebastiano        C       2\n",
      "389                              Lehmann, Miss. Bertha        C       2\n",
      "473       Jerwan, Mrs. Amin S (Marie Marthe Thuillard)        C       2\n",
      "547                         Padro y Manent, Mr. Julian        C       2\n",
      "608  Laroche, Mrs. Joseph (Juliette Marie Louise La...        C       2\n",
      "685             Laroche, Mr. Joseph Philippe Lemercier        C       2\n",
      "817                                 Mallet, Mr. Albert        C       2\n",
      "827                              Mallet, Master. Andre        C       2\n",
      "866                       Duran y More, Miss. Asuncion        C       2\n",
      "874              Abelson, Mrs. Samuel (Hannah Wizosky)        C       2\n"
     ]
    }
   ],
   "source": [
    "embarked_C_class2 = df[(df['Embarked'] == 'C') & (df['Pclass'] == 2)]\n",
    "print(\"\\nEmbarked from 'C' and Class 2:\\n\", embarked_C_class2[['Name', 'Embarked', 'Pclass']])"
   ]
  },
  {
   "cell_type": "code",
   "execution_count": 21,
   "id": "98aa735c",
   "metadata": {},
   "outputs": [
    {
     "name": "stdout",
     "output_type": "stream",
     "text": [
      "\n",
      "SibSp > 2:\n",
      "                                                   Name  SibSp\n",
      "7                       Palsson, Master. Gosta Leonard      3\n",
      "16                                Rice, Master. Eugene      4\n",
      "24                       Palsson, Miss. Torborg Danira      3\n",
      "27                      Fortune, Mr. Charles Alexander      3\n",
      "50                          Panula, Master. Juha Niilo      4\n",
      "59                  Goodwin, Master. William Frederick      5\n",
      "63                               Skoog, Master. Harald      3\n",
      "68                     Andersson, Miss. Erna Alexandra      4\n",
      "71                          Goodwin, Miss. Lillian Amy      5\n",
      "85   Backstrom, Mrs. Karl Alfred (Maria Mathilda Gu...      3\n",
      "88                          Fortune, Miss. Mabel Helen      3\n",
      "119                  Andersson, Miss. Ellis Anna Maria      4\n",
      "159                         Sage, Master. Thomas Henry      8\n",
      "164                       Panula, Master. Eino Viljami      4\n",
      "171                               Rice, Master. Arthur      4\n",
      "176                      Lefebre, Master. Henry Forbes      3\n",
      "180                       Sage, Miss. Constance Gladys      8\n",
      "182              Asplund, Master. Clarence Gustaf Hugo      4\n",
      "201                                Sage, Mr. Frederick      8\n",
      "229                            Lefebre, Miss. Mathilde      3\n",
      "233                     Asplund, Miss. Lillian Gertrud      4\n",
      "261                  Asplund, Master. Edvin Rojj Felix      4\n",
      "266                          Panula, Mr. Ernesti Arvid      4\n",
      "278                                 Rice, Master. Eric      4\n",
      "324                           Sage, Mr. George John Jr      8\n",
      "341                     Fortune, Miss. Alice Elizabeth      3\n",
      "374                         Palsson, Miss. Stina Viola      3\n",
      "386                    Goodwin, Master. Sidney Leonard      5\n",
      "409                                 Lefebre, Miss. Ida      3\n",
      "480                     Goodwin, Master. Harold Victor      5\n",
      "485                             Lefebre, Miss. Jeannie      3\n",
      "541               Andersson, Miss. Ingeborg Constanzia      4\n",
      "542                  Andersson, Miss. Sigrid Elisabeth      4\n",
      "634                                 Skoog, Miss. Mabel      3\n",
      "642                      Skoog, Miss. Margit Elizabeth      3\n",
      "683                        Goodwin, Mr. Charles Edward      5\n",
      "686                           Panula, Mr. Jaako Arnold      4\n",
      "726        Renouf, Mrs. Peter Henry (Lillian Jefferys)      3\n",
      "787                          Rice, Master. George Hugh      4\n",
      "792                            Sage, Miss. Stella Anna      8\n",
      "813                 Andersson, Miss. Ebba Iris Alfrida      4\n",
      "819                       Skoog, Master. Karl Thorsten      3\n",
      "824                       Panula, Master. Urho Abraham      4\n",
      "846                           Sage, Mr. Douglas Bullen      8\n",
      "850            Andersson, Master. Sigvard Harald Elias      4\n",
      "863                  Sage, Miss. Dorothy Edith \"Dolly\"      8\n"
     ]
    }
   ],
   "source": [
    "sibsp_gt2 = df[df['SibSp'] > 2]\n",
    "print(\"\\nSibSp > 2:\\n\", sibsp_gt2[['Name', 'SibSp']])"
   ]
  },
  {
   "cell_type": "code",
   "execution_count": 22,
   "id": "7cea00e0",
   "metadata": {},
   "outputs": [
    {
     "name": "stdout",
     "output_type": "stream",
     "text": [
      "\n",
      "Did not survive and no family aboard:\n",
      "                                      Name  SibSp  Parch\n",
      "4                Allen, Mr. William Henry      0      0\n",
      "5                        Moran, Mr. James      0      0\n",
      "6                 McCarthy, Mr. Timothy J      0      0\n",
      "12         Saundercock, Mr. William Henry      0      0\n",
      "14   Vestrom, Miss. Hulda Amanda Adolfina      0      0\n",
      "..                                    ...    ...    ...\n",
      "882          Dahlberg, Miss. Gerda Ulrika      0      0\n",
      "883         Banfield, Mr. Frederick James      0      0\n",
      "884                Sutehall, Mr. Henry Jr      0      0\n",
      "886                 Montvila, Rev. Juozas      0      0\n",
      "890                   Dooley, Mr. Patrick      0      0\n",
      "\n",
      "[374 rows x 3 columns]\n"
     ]
    }
   ],
   "source": [
    "no_family_died = df[(df['Survived'] == 0) & (df['SibSp'] == 0) & (df['Parch'] == 0)]\n",
    "print(\"\\nDid not survive and no family aboard:\\n\", no_family_died[['Name', 'SibSp', 'Parch']])"
   ]
  },
  {
   "cell_type": "code",
   "execution_count": 23,
   "id": "73746aa8",
   "metadata": {},
   "outputs": [
    {
     "name": "stdout",
     "output_type": "stream",
     "text": [
      "\n",
      "Top 5 Oldest Survivors:\n",
      "                                           Name   Age\n",
      "630       Barkworth, Mr. Algernon Henry Wilson  80.0\n",
      "483                     Turkula, Mrs. (Hedwig)  63.0\n",
      "275          Andrews, Miss. Kornelia Theodosia  63.0\n",
      "570                         Harris, Mr. George  62.0\n",
      "829  Stone, Mrs. George Nelson (Martha Evelyn)  62.0\n"
     ]
    }
   ],
   "source": [
    "oldest_survivors = df[df['Survived'] == 1].sort_values(by='Age', ascending=False).head(5)\n",
    "print(\"\\nTop 5 Oldest Survivors:\\n\", oldest_survivors[['Name', 'Age']])"
   ]
  },
  {
   "cell_type": "code",
   "execution_count": 24,
   "id": "281e2eed",
   "metadata": {},
   "outputs": [
    {
     "name": "stdout",
     "output_type": "stream",
     "text": [
      "\n",
      "Passengers with Fare = 0:\n",
      "                                  Name  Fare\n",
      "179               Leonard, Mr. Lionel   0.0\n",
      "263             Harrison, Mr. William   0.0\n",
      "271      Tornquist, Mr. William Henry   0.0\n",
      "277       Parkes, Mr. Francis \"Frank\"   0.0\n",
      "302   Johnson, Mr. William Cahoone Jr   0.0\n",
      "413    Cunningham, Mr. Alfred Fleming   0.0\n",
      "466             Campbell, Mr. William   0.0\n",
      "481  Frost, Mr. Anthony Wood \"Archie\"   0.0\n",
      "597               Johnson, Mr. Alfred   0.0\n",
      "633     Parr, Mr. William Henry Marsh   0.0\n",
      "674        Watson, Mr. Ennis Hastings   0.0\n",
      "732              Knight, Mr. Robert J   0.0\n",
      "806            Andrews, Mr. Thomas Jr   0.0\n",
      "815                  Fry, Mr. Richard   0.0\n",
      "822   Reuchlin, Jonkheer. John George   0.0\n"
     ]
    }
   ],
   "source": [
    "zero_fare = df[df['Fare'] == 0]\n",
    "print(\"\\nPassengers with Fare = 0:\\n\", zero_fare[['Name', 'Fare']])"
   ]
  },
  {
   "cell_type": "code",
   "execution_count": 26,
   "id": "93365ba3",
   "metadata": {},
   "outputs": [
    {
     "name": "stdout",
     "output_type": "stream",
     "text": [
      "\n",
      "Training set shape: (712, 8)\n",
      "Testing set shape: (179, 8)\n"
     ]
    }
   ],
   "source": [
    "from sklearn.model_selection import train_test_split \n",
    "X = df[['Pclass', 'Sex', 'Age', 'Fare', 'SibSp', 'Parch', 'Embarked']]\n",
    "X = pd.get_dummies(X, drop_first=True)\n",
    "y = df['Survived']\n",
    "\n",
    "X_train, X_test, y_train, y_test = train_test_split(X, y, test_size=0.2, random_state=42)\n",
    "\n",
    "print(\"\\nTraining set shape:\", X_train.shape)\n",
    "print(\"Testing set shape:\", X_test.shape)"
   ]
  },
  {
   "cell_type": "code",
   "execution_count": null,
   "id": "ee7527f3",
   "metadata": {},
   "outputs": [],
   "source": []
  }
 ],
 "metadata": {
  "kernelspec": {
   "display_name": "Python 3 (ipykernel)",
   "language": "python",
   "name": "python3"
  },
  "language_info": {
   "codemirror_mode": {
    "name": "ipython",
    "version": 3
   },
   "file_extension": ".py",
   "mimetype": "text/x-python",
   "name": "python",
   "nbconvert_exporter": "python",
   "pygments_lexer": "ipython3",
   "version": "3.9.12"
  }
 },
 "nbformat": 4,
 "nbformat_minor": 5
}
