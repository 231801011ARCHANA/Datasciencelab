{
  "nbformat": 4,
  "nbformat_minor": 0,
  "metadata": {
    "colab": {
      "provenance": []
    },
    "kernelspec": {
      "name": "python3",
      "display_name": "Python 3"
    },
    "language_info": {
      "name": "python"
    }
  },
  "cells": [
    {
      "cell_type": "code",
      "execution_count": null,
      "metadata": {
        "id": "nnzMexsdetqW"
      },
      "outputs": [],
      "source": [
        "import pandas as pd\n",
        "data=pd.read_csv(\"Reviews.csv\")"
      ]
    },
    {
      "cell_type": "code",
      "source": [
        "df=pd.DataFrame(data)"
      ],
      "metadata": {
        "id": "D7LcyfqlfeRr"
      },
      "execution_count": null,
      "outputs": []
    },
    {
      "cell_type": "code",
      "source": [
        "import nltk"
      ],
      "metadata": {
        "id": "PhYf7UKyfjs5"
      },
      "execution_count": null,
      "outputs": []
    },
    {
      "cell_type": "code",
      "source": [
        "nltk.download('punkt')\n",
        "nltk.download('stopwords')"
      ],
      "metadata": {
        "colab": {
          "base_uri": "https://localhost:8080/"
        },
        "id": "haC1CTCVg4me",
        "outputId": "faa9f857-37ac-4d28-d84d-682342160bed"
      },
      "execution_count": null,
      "outputs": [
        {
          "output_type": "stream",
          "name": "stderr",
          "text": [
            "[nltk_data] Downloading package punkt to /root/nltk_data...\n",
            "[nltk_data]   Unzipping tokenizers/punkt.zip.\n",
            "[nltk_data] Downloading package stopwords to /root/nltk_data...\n",
            "[nltk_data]   Unzipping corpora/stopwords.zip.\n"
          ]
        },
        {
          "output_type": "execute_result",
          "data": {
            "text/plain": [
              "True"
            ]
          },
          "metadata": {},
          "execution_count": 9
        }
      ]
    },
    {
      "cell_type": "code",
      "source": [
        "reviews = df['Text']\n",
        "reviews = reviews.dropna()\n",
        "reviews = reviews[:10000]"
      ],
      "metadata": {
        "id": "kuXm97iSg7-2"
      },
      "execution_count": null,
      "outputs": []
    },
    {
      "cell_type": "code",
      "source": [
        "text = df['Text'].str.lower()"
      ],
      "metadata": {
        "id": "hgZNVlQDhW0u"
      },
      "execution_count": null,
      "outputs": []
    },
    {
      "cell_type": "code",
      "source": [
        "def preprocess_text(text):\n",
        "    text = text.lower()\n",
        "    text = re.sub(r'[^a-zA-Z\\s]', '', text)\n",
        "    tokens = word_tokenize(text)\n",
        "    tokens = [word for word in tokens if word not in stop_words]\n",
        "    return ' '.join(tokens)"
      ],
      "metadata": {
        "id": "iqR363iijhoV"
      },
      "execution_count": null,
      "outputs": []
    },
    {
      "cell_type": "code",
      "source": [
        "cleaned_reviews = reviews.apply(preprocess_text)\n",
        "from sklearn.feature_extraction.text import TfidfVectorizer\n",
        "vectorizer = TfidfVectorizer()\n",
        "tfidf_matrix = vectorizer.fit_transform(cleaned_reviews)"
      ],
      "metadata": {
        "id": "TCWqiMZmjsNt"
      },
      "execution_count": null,
      "outputs": []
    },
    {
      "cell_type": "code",
      "metadata": {
        "id": "1497f1f0"
      },
      "source": [
        "from sklearn.metrics.pairwise import cosine_similarity\n"
      ],
      "execution_count": null,
      "outputs": []
    },
    {
      "cell_type": "code",
      "source": [
        "def preprocess_text(text):\n",
        "    text = text.lower()\n",
        "    text = re.sub(r'[^a-zA-Z\\s]', '', text)\n",
        "    tokens = word_tokenize(text)\n",
        "    tokens = [word for word in tokens if word not in stop_words]\n",
        "    return ' '.join(tokens)\n"
      ],
      "metadata": {
        "id": "_M4Xwq5po4U0"
      },
      "execution_count": null,
      "outputs": []
    },
    {
      "cell_type": "code",
      "source": [
        "def search_reviews(query, top_k=5):\n",
        "    cleaned_query = preprocess_text(query)\n",
        "    query_vector = vectorizer.transform([cleaned_query])\n",
        "    similarities = cosine_similarity(query_vector, tfidf_matrix).flatten()\n",
        "    top_indices = similarities.argsort()[::-1][:top_k]\n",
        "    results = pd.DataFrame({\n",
        "        'original_review': reviews.iloc[top_indices].values,\n",
        "        'cleaned_review': cleaned_reviews.iloc[top_indices].values,\n",
        "        'similarity_score': similarities[top_indices]\n",
        "    })\n",
        "\n",
        "    return results\n"
      ],
      "metadata": {
        "id": "bttANnZapCPM"
      },
      "execution_count": null,
      "outputs": []
    },
    {
      "cell_type": "code",
      "source": [
        "query = \"bad customer service and rude staff\"\n",
        "top_matches = search_reviews(query, top_k=5)\n",
        "print(top_matches)\n"
      ],
      "metadata": {
        "colab": {
          "base_uri": "https://localhost:8080/"
        },
        "id": "Q03cNuMKpOW7",
        "outputId": "800d5897-3257-4ce2-e4ab-32f3b83c0612"
      },
      "execution_count": null,
      "outputs": [
        {
          "output_type": "stream",
          "name": "stdout",
          "text": [
            "                                     original_review  \\\n",
            "0  SO GOOD SO PERFECT SO TENDER SO MEATY SO TASTY...   \n",
            "1  This is a great product and you provided great...   \n",
            "2  The customer service was beyond compare.  I wo...   \n",
            "3  I emailed customer service and asked if the tr...   \n",
            "4  This is the only way to eat sashimi. The custo...   \n",
            "\n",
            "                                      cleaned_review  similarity_score  \n",
            "0  good perfect tender meaty tasty delicious able...          0.254476  \n",
            "1  great product provided great customer service ...          0.250064  \n",
            "2  customer service beyond compare would gladly b...          0.243796  \n",
            "3  emailed customer service asked treats filled s...          0.240541  \n",
            "4  way eat sashimi customer service outstanding t...          0.228666  \n"
          ]
        }
      ]
    },
    {
      "cell_type": "code",
      "source": [
        "query1 = \"great product with fast shipping\"\n",
        "top_matches_1 = search_reviews(query1, top_k=5)\n",
        "print(\"Results for Query 1:\")\n",
        "print(top_matches_1)\n"
      ],
      "metadata": {
        "colab": {
          "base_uri": "https://localhost:8080/"
        },
        "id": "g2SIVQ5FpSUr",
        "outputId": "c98e6e98-4227-485d-cd7b-a08a025c1781"
      },
      "execution_count": null,
      "outputs": [
        {
          "output_type": "stream",
          "name": "stdout",
          "text": [
            "Results for Query 1:\n",
            "                                     original_review  \\\n",
            "0  Enjoyed the product and they also provided ver...   \n",
            "1  The tea is good and fresh. We enjoy it. The sh...   \n",
            "2  My daughter lives in Hawaii and sent me some g...   \n",
            "3  The energy drink is a great product. The shipp...   \n",
            "4  Fast shipping, items were packaged nicely and ...   \n",
            "\n",
            "                                      cleaned_review  similarity_score  \n",
            "0  enjoyed product also provided fast shipping im...          0.502383  \n",
            "1  tea good fresh enjoy shipping fast cost reason...          0.443917  \n",
            "2  daughter lives hawaii sent great coffee keurig...          0.405738  \n",
            "3  energy drink great product shipping price craz...          0.403072  \n",
            "4  fast shipping items packaged nicely described ...          0.390348  \n"
          ]
        }
      ]
    },
    {
      "cell_type": "code",
      "source": [
        "query2 = \"disappointed\"\n",
        "top_matches_2 = search_reviews(query2, top_k=5)\n",
        "print(\"\\nResults for Query 2:\")\n",
        "print(top_matches_2)\n"
      ],
      "metadata": {
        "colab": {
          "base_uri": "https://localhost:8080/"
        },
        "id": "1woPDZoNp7A1",
        "outputId": "81ee6965-3da4-4e1a-aa13-6b7ffd0d8283"
      },
      "execution_count": null,
      "outputs": [
        {
          "output_type": "stream",
          "name": "stdout",
          "text": [
            "\n",
            "Results for Query 2:\n",
            "                                     original_review  \\\n",
            "0  I am a bit disappointed.  The flavor was not w...   \n",
            "1  The product is very good. Way too expensive an...   \n",
            "2  Disappointed.  The big boxes had a very differ...   \n",
            "3  Just plain nasty!!! This item tasted like card...   \n",
            "4  this stuff really works, i love it and cant ge...   \n",
            "\n",
            "                                      cleaned_review  similarity_score  \n",
            "0            bit disappointed flavor wanted expected          0.485029  \n",
            "1  product good way expensive almost box get panc...          0.356803  \n",
            "2  disappointed big boxes different flavor smalle...          0.320826  \n",
            "3  plain nasty item tasted like cardboard watered...          0.311353  \n",
            "4  stuff really works love cant get enough tastes...          0.308053  \n"
          ]
        }
      ]
    },
    {
      "cell_type": "code",
      "source": [],
      "metadata": {
        "id": "3RKBcUJ2qAIz"
      },
      "execution_count": null,
      "outputs": []
    }
  ]
}