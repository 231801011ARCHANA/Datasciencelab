{
 "cells": [
  {
   "cell_type": "code",
   "execution_count": 2,
   "id": "2aa70263",
   "metadata": {},
   "outputs": [
    {
     "name": "stderr",
     "output_type": "stream",
     "text": [
      "[nltk_data] Downloading package punkt_tab to\n",
      "[nltk_data]     C:\\Users\\Tcs\\AppData\\Roaming\\nltk_data...\n",
      "[nltk_data]   Unzipping tokenizers\\punkt_tab.zip.\n",
      "[nltk_data] Downloading package stopwords to\n",
      "[nltk_data]     C:\\Users\\Tcs\\AppData\\Roaming\\nltk_data...\n",
      "[nltk_data]   Package stopwords is already up-to-date!\n",
      "[nltk_data] Downloading package averaged_perceptron_tagger_eng to\n",
      "[nltk_data]     C:\\Users\\Tcs\\AppData\\Roaming\\nltk_data...\n",
      "[nltk_data]   Unzipping taggers\\averaged_perceptron_tagger_eng.zip.\n",
      "[nltk_data] Downloading package maxent_ne_chunker_tab to\n",
      "[nltk_data]     C:\\Users\\Tcs\\AppData\\Roaming\\nltk_data...\n",
      "[nltk_data]   Unzipping chunkers\\maxent_ne_chunker_tab.zip.\n",
      "[nltk_data] Downloading package words to\n",
      "[nltk_data]     C:\\Users\\Tcs\\AppData\\Roaming\\nltk_data...\n",
      "[nltk_data]   Package words is already up-to-date!\n"
     ]
    },
    {
     "data": {
      "text/plain": [
       "True"
      ]
     },
     "execution_count": 2,
     "metadata": {},
     "output_type": "execute_result"
    }
   ],
   "source": [
    "import pandas as pd\n",
    "import nltk\n",
    "import string\n",
    "\n",
    "# Download required NLTK resources\n",
    "nltk.download('punkt_tab')\n",
    "nltk.download('stopwords')\n",
    "nltk.download('averaged_perceptron_tagger_eng')\n",
    "nltk.download('maxent_ne_chunker_tab')\n",
    "nltk.download('words')\n"
   ]
  },
  {
   "cell_type": "code",
   "execution_count": 3,
   "id": "b486637d",
   "metadata": {},
   "outputs": [],
   "source": [
    "# Load dataset CSV (adjust path accordingly)\n",
    "df = pd.read_csv('Reviews.csv')\n",
    "\n",
    "# Select the column containing the review text\n",
    "reviews = df['Text']\n",
    "\n",
    "# Remove missing/null entries\n",
    "reviews = reviews.dropna()\n",
    "\n",
    "# Limit to 10,000 reviews\n",
    "reviews = reviews.iloc[:10000]\n"
   ]
  },
  {
   "cell_type": "code",
   "execution_count": 4,
   "id": "4c4bfeba",
   "metadata": {},
   "outputs": [],
   "source": [
    "# Function to lowercase and remove punctuation\n",
    "def preprocess_text(text):\n",
    "    text = text.lower()\n",
    "    # Remove punctuation using str.translate\n",
    "    text = text.translate(str.maketrans('', '', string.punctuation))\n",
    "    return text\n",
    "\n",
    "reviews = reviews.apply(preprocess_text)\n"
   ]
  },
  {
   "cell_type": "code",
   "execution_count": 5,
   "id": "835bdd3c",
   "metadata": {},
   "outputs": [],
   "source": [
    "from nltk.corpus import stopwords\n",
    "stop_words = set(stopwords.words('english'))\n",
    "\n",
    "def tokenize_and_clean(text):\n",
    "    tokens = nltk.word_tokenize(text)\n",
    "    # Keep only alphabetic tokens and remove stopwords\n",
    "    tokens = [word for word in tokens if word.isalpha() and word not in stop_words]\n",
    "    return tokens\n",
    "\n",
    "tokenized_reviews = reviews.apply(tokenize_and_clean)\n"
   ]
  },
  {
   "cell_type": "code",
   "execution_count": 6,
   "id": "02fa5de7",
   "metadata": {},
   "outputs": [],
   "source": [
    "pos_tagged_reviews = tokenized_reviews.apply(nltk.pos_tag)"
   ]
  },
  {
   "cell_type": "code",
   "execution_count": 9,
   "id": "702d0eba",
   "metadata": {},
   "outputs": [
    {
     "name": "stdout",
     "output_type": "stream",
     "text": [
      "0       [bought, several, vitality, canned, dog, food,...\n",
      "1       [product, arrived, labeled, jumbo, salted, pea...\n",
      "2       [confection, around, centuries, light, pillowy...\n",
      "3       [looking, secret, ingredient, robitussin, beli...\n",
      "4       [great, taffy, great, price, wide, assortment,...\n",
      "                              ...                        \n",
      "9995    [switched, advance, similac, organic, product,...\n",
      "9996    [like, bad, reviews, say, organic, formula, co...\n",
      "9997    [wanted, solely, breastfeed, unable, keep, sup...\n",
      "9998    [love, fact, get, delieved, house, delievy, ch...\n",
      "9999    [week, old, gas, constipation, problems, first...\n",
      "Name: Text, Length: 10000, dtype: object\n"
     ]
    }
   ],
   "source": [
    "print(tokenized_reviews)"
   ]
  },
  {
   "cell_type": "code",
   "execution_count": 8,
   "id": "96026c4e",
   "metadata": {},
   "outputs": [
    {
     "name": "stdout",
     "output_type": "stream",
     "text": [
      "0       [(bought, VBD), (several, JJ), (vitality, NN),...\n",
      "1       [(product, NN), (arrived, VBD), (labeled, JJ),...\n",
      "2       [(confection, NN), (around, IN), (centuries, N...\n",
      "3       [(looking, VBG), (secret, JJ), (ingredient, NN...\n",
      "4       [(great, JJ), (taffy, JJ), (great, JJ), (price...\n",
      "                              ...                        \n",
      "9995    [(switched, VBN), (advance, NN), (similac, NN)...\n",
      "9996    [(like, IN), (bad, JJ), (reviews, NNS), (say, ...\n",
      "9997    [(wanted, VBN), (solely, RB), (breastfeed, VBN...\n",
      "9998    [(love, VB), (fact, NN), (get, VB), (delieved,...\n",
      "9999    [(week, NN), (old, JJ), (gas, NN), (constipati...\n",
      "Name: Text, Length: 10000, dtype: object\n"
     ]
    }
   ],
   "source": [
    "print(pos_tagged_reviews)"
   ]
  },
  {
   "cell_type": "code",
   "execution_count": 7,
   "id": "ae017141",
   "metadata": {},
   "outputs": [],
   "source": [
    "def get_named_entities(pos_tags):\n",
    "    chunks = nltk.ne_chunk(pos_tags)\n",
    "    named_entities = []\n",
    "    for chunk in chunks:\n",
    "        if hasattr(chunk, 'label'):\n",
    "            entity_name = ' '.join(c[0] for c in chunk)\n",
    "            entity_type = chunk.label()\n",
    "            named_entities.append((entity_name, entity_type))\n",
    "    return named_entities\n",
    "\n",
    "ner_reviews = pos_tagged_reviews.apply(get_named_entities)\n"
   ]
  }
 ],
 "metadata": {
  "kernelspec": {
   "display_name": "Python 3 (ipykernel)",
   "language": "python",
   "name": "python3"
  },
  "language_info": {
   "codemirror_mode": {
    "name": "ipython",
    "version": 3
   },
   "file_extension": ".py",
   "mimetype": "text/x-python",
   "name": "python",
   "nbconvert_exporter": "python",
   "pygments_lexer": "ipython3",
   "version": "3.9.12"
  }
 },
 "nbformat": 4,
 "nbformat_minor": 5
}
